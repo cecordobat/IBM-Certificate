{
 "cells": [
  {
   "cell_type": "markdown",
   "id": "eda7da47",
   "metadata": {},
   "source": [
    "# My Jupyter Notebook on IBM Watson Studio"
   ]
  },
  {
   "cell_type": "markdown",
   "id": "bdbca611",
   "metadata": {},
   "source": [
    "**Cristhian Córdoba** \\\n",
    "Data scientist"
   ]
  },
  {
   "cell_type": "markdown",
   "id": "febfb5e0",
   "metadata": {},
   "source": [
    "*I am interested in data science because i want to change my family opportunities*"
   ]
  },
  {
   "cell_type": "markdown",
   "id": "83fc491c",
   "metadata": {},
   "source": [
    "### my code concats 2 numbers to get the result"
   ]
  },
  {
   "cell_type": "code",
   "execution_count": 2,
   "id": "95bc13f1",
   "metadata": {},
   "outputs": [
    {
     "name": "stdout",
     "output_type": "stream",
     "text": [
      "2\n",
      "4\n",
      "24\n"
     ]
    }
   ],
   "source": [
    "a=input()\n",
    "b=input()\n",
    "c=a+b\n",
    "print(c)\n",
    "\n"
   ]
  }
 ],
 "metadata": {
  "kernelspec": {
   "display_name": "Python 3 (ipykernel)",
   "language": "python",
   "name": "python3"
  },
  "language_info": {
   "codemirror_mode": {
    "name": "ipython",
    "version": 3
   },
   "file_extension": ".py",
   "mimetype": "text/x-python",
   "name": "python",
   "nbconvert_exporter": "python",
   "pygments_lexer": "ipython3",
   "version": "3.9.12"
  }
 },
 "nbformat": 4,
 "nbformat_minor": 5
}
